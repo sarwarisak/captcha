{
 "cells": [
  {
   "cell_type": "code",
   "execution_count": 1,
   "metadata": {},
   "outputs": [],
   "source": [
    "from fastai.vision import *"
   ]
  },
  {
   "cell_type": "code",
   "execution_count": 2,
   "metadata": {},
   "outputs": [],
   "source": [
    "def crack(fname):\n",
    "    decoding_dict={0: '-',\n",
    "     1: 'A',\n",
    "     2: 'F',\n",
    "     3: 'M',\n",
    "     4: 'P',\n",
    "     5: 'S',\n",
    "     6: 'X',\n",
    "     7: 'a',\n",
    "     8: 'b',\n",
    "     9: 'c',\n",
    "     10: 'd',\n",
    "     11: 'e',\n",
    "     12: 'f',\n",
    "     13: 'g',\n",
    "     14: 'h',\n",
    "     15: 'i',\n",
    "     16: 'j',\n",
    "     17: 'k',\n",
    "     18: 'l',\n",
    "     19: 'm',\n",
    "     20: 'n',\n",
    "     21: 'o',\n",
    "     22: 'p',\n",
    "     23: 'q',\n",
    "     24: 'r',\n",
    "     25: 's',\n",
    "     26: 't',\n",
    "     27: 'u',\n",
    "     28: 'v',\n",
    "     29: 'w',\n",
    "     30: 'x',\n",
    "     31: 'y',\n",
    "     32: 'z'}\n",
    "\n",
    "    code_dimension = 33\n",
    "    captcha_dimension = 7\n",
    "    def decode(onehot):\n",
    "        onehot = onehot.reshape(code_dimension, captcha_dimension)\n",
    "        idx = np.argmax(onehot, axis=0)\n",
    "        return [decoding_dict[i.item()] for i in idx]\n",
    "\n",
    "    path=Path('')\n",
    "\n",
    "    learn2=load_learner(path,\"1_export.pkl\")\n",
    "\n",
    "\n",
    "\n",
    "    img = open_image('../uploads/'+fname)\n",
    "    #img\n",
    "\n",
    "    defaults.device = torch.device('cpu')\n",
    "    pred_class,pred_idx,outputs = learn2.predict(img)\n",
    "\n",
    "    ll=decode(pred_idx)\n",
    "    st=\"\"\n",
    "    for i in ll:\n",
    "        st=st+i\n",
    "    return(st)\n",
    "\n"
   ]
  },
  {
   "cell_type": "code",
   "execution_count": null,
   "metadata": {},
   "outputs": [],
   "source": []
  }
 ],
 "metadata": {
  "kernelspec": {
   "display_name": "fastai v1",
   "language": "python",
   "name": "fastai_v1"
  },
  "language_info": {
   "codemirror_mode": {
    "name": "ipython",
    "version": 3
   },
   "file_extension": ".py",
   "mimetype": "text/x-python",
   "name": "python",
   "nbconvert_exporter": "python",
   "pygments_lexer": "ipython3",
   "version": "3.6.10"
  }
 },
 "nbformat": 4,
 "nbformat_minor": 4
}
